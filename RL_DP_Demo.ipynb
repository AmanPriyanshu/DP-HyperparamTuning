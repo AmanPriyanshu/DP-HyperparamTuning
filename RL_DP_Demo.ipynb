{
  "nbformat": 4,
  "nbformat_minor": 0,
  "metadata": {
    "colab": {
      "name": "RL_DP_Demo.ipynb",
      "provenance": [],
      "collapsed_sections": [],
      "include_colab_link": true
    },
    "kernelspec": {
      "name": "python3",
      "display_name": "Python 3"
    },
    "language_info": {
      "name": "python"
    }
  },
  "cells": [
    {
      "cell_type": "markdown",
      "metadata": {
        "id": "view-in-github",
        "colab_type": "text"
      },
      "source": [
        "<a href=\"https://colab.research.google.com/github/AmanPriyanshu/DP-HyperparamTuning/blob/main/RL_DP_Demo.ipynb\" target=\"_parent\"><img src=\"https://colab.research.google.com/assets/colab-badge.svg\" alt=\"Open In Colab\"/></a>"
      ]
    },
    {
      "cell_type": "markdown",
      "metadata": {
        "id": "p5E4oLWCcJSd"
      },
      "source": [
        "# Demo for RL-DP-Project:\n",
        "\n",
        "## SET-UP"
      ]
    },
    {
      "cell_type": "code",
      "metadata": {
        "colab": {
          "base_uri": "https://localhost:8080/"
        },
        "id": "xgxkz13IX_W9",
        "outputId": "72486692-34ce-4d24-9fbf-c1e18fb45637"
      },
      "source": [
        "!nvidia-smi"
      ],
      "execution_count": null,
      "outputs": [
        {
          "output_type": "stream",
          "text": [
            "NVIDIA-SMI has failed because it couldn't communicate with the NVIDIA driver. Make sure that the latest NVIDIA driver is installed and running.\n",
            "\n"
          ],
          "name": "stdout"
        }
      ]
    },
    {
      "cell_type": "code",
      "metadata": {
        "colab": {
          "base_uri": "https://localhost:8080/"
        },
        "id": "3g0ts-lKYMXG",
        "outputId": "bdfa6adb-aed2-4597-903e-48e3aa1ddcb9"
      },
      "source": [
        "!git clone https://github.com/AmanPriyanshu/DP-HyperparamTuning.git ./RL_DP_Project"
      ],
      "execution_count": null,
      "outputs": [
        {
          "output_type": "stream",
          "text": [
            "Cloning into './RL_DP_Project'...\n",
            "remote: Enumerating objects: 98, done.\u001b[K\n",
            "remote: Counting objects: 100% (98/98), done.\u001b[K\n",
            "remote: Compressing objects: 100% (80/80), done.\u001b[K\n",
            "remote: Total 98 (delta 36), reused 48 (delta 12), pack-reused 0\u001b[K\n",
            "Unpacking objects: 100% (98/98), done.\n"
          ],
          "name": "stdout"
        }
      ]
    },
    {
      "cell_type": "markdown",
      "metadata": {
        "id": "jbVvSy_6cbLL"
      },
      "source": [
        "## Importing Everything:"
      ]
    },
    {
      "cell_type": "code",
      "metadata": {
        "colab": {
          "base_uri": "https://localhost:8080/"
        },
        "id": "sOLdsmkkchpL",
        "outputId": "95fa1b67-775a-4dc0-b7e4-ccf87ec9e264"
      },
      "source": [
        "!pip install opacus"
      ],
      "execution_count": null,
      "outputs": [
        {
          "output_type": "stream",
          "text": [
            "Collecting opacus\n",
            "  Downloading opacus-0.14.0-py3-none-any.whl (114 kB)\n",
            "\u001b[?25l\r\u001b[K     |██▉                             | 10 kB 10.5 MB/s eta 0:00:01\r\u001b[K     |█████▊                          | 20 kB 14.5 MB/s eta 0:00:01\r\u001b[K     |████████▋                       | 30 kB 10.4 MB/s eta 0:00:01\r\u001b[K     |███████████▌                    | 40 kB 9.3 MB/s eta 0:00:01\r\u001b[K     |██████████████▍                 | 51 kB 5.6 MB/s eta 0:00:01\r\u001b[K     |█████████████████▏              | 61 kB 5.3 MB/s eta 0:00:01\r\u001b[K     |████████████████████            | 71 kB 4.9 MB/s eta 0:00:01\r\u001b[K     |███████████████████████         | 81 kB 5.5 MB/s eta 0:00:01\r\u001b[K     |█████████████████████████▉      | 92 kB 5.5 MB/s eta 0:00:01\r\u001b[K     |████████████████████████████▊   | 102 kB 5.2 MB/s eta 0:00:01\r\u001b[K     |███████████████████████████████▌| 112 kB 5.2 MB/s eta 0:00:01\r\u001b[K     |████████████████████████████████| 114 kB 5.2 MB/s \n",
            "\u001b[?25hRequirement already satisfied: numpy>=1.15 in /usr/local/lib/python3.7/dist-packages (from opacus) (1.19.5)\n",
            "Requirement already satisfied: scipy>=1.2 in /usr/local/lib/python3.7/dist-packages (from opacus) (1.4.1)\n",
            "Requirement already satisfied: torch>=1.3 in /usr/local/lib/python3.7/dist-packages (from opacus) (1.9.0+cu102)\n",
            "Requirement already satisfied: typing-extensions in /usr/local/lib/python3.7/dist-packages (from torch>=1.3->opacus) (3.7.4.3)\n",
            "Installing collected packages: opacus\n",
            "Successfully installed opacus-0.14.0\n"
          ],
          "name": "stdout"
        }
      ]
    },
    {
      "cell_type": "code",
      "metadata": {
        "id": "G0Oe4TMyceQz"
      },
      "source": [
        "from opacus import PrivacyEngine\n",
        "from tqdm.notebook import tqdm\n",
        "import pandas as pd\n",
        "import numpy as np\n",
        "import torch\n",
        "import random\n",
        "import os\n",
        "from sklearn.datasets import make_classification\n",
        "import warnings\n",
        "warnings.filterwarnings(\"ignore\")"
      ],
      "execution_count": null,
      "outputs": []
    },
    {
      "cell_type": "markdown",
      "metadata": {
        "id": "1L_OUEmxcyMU"
      },
      "source": [
        "## Reading the Data:"
      ]
    },
    {
      "cell_type": "code",
      "metadata": {
        "id": "_2g9fg1ec1Aj"
      },
      "source": [
        "class ClassificationDataset(torch.utils.data.Dataset):\n",
        "\tdef __init__(self, x, y):\n",
        "\t\tself.x = x\n",
        "\t\tself.y = y\n",
        "\n",
        "\tdef __len__(self):\n",
        "\t\treturn len(self.x)\n",
        "\n",
        "\tdef __getitem__(self, idx):\n",
        "\t\treturn torch.from_numpy(self.x[idx].astype(np.float32)), torch.from_numpy(np.array([self.y[idx]]).astype(np.float32))"
      ],
      "execution_count": null,
      "outputs": []
    },
    {
      "cell_type": "code",
      "metadata": {
        "id": "yn1xnKAzc-iK"
      },
      "source": [
        "def load_sklearn(val_split=0.2):\n",
        "\tx, y = make_classification(n_samples=4000, n_features=8, n_informative=2, n_redundant=2, n_classes=2, n_clusters_per_class=2, flip_y=0.15, class_sep=1.5, hypercube=True, shift=0.0, shuffle=True, random_state=0)\n",
        "\ttrain_x, train_y, test_x, test_y = x[:int((1-val_split)*len(x))], y[:int((1-val_split)*len(x))], x[int((1-val_split)*len(x)):], y[int((1-val_split)*len(x)):]\n",
        "\treturn train_x, train_y, test_x, test_y"
      ],
      "execution_count": null,
      "outputs": []
    },
    {
      "cell_type": "code",
      "metadata": {
        "id": "AiwRAHtldDiK"
      },
      "source": [
        "def load_dataset():\n",
        "\ttrain_x, train_y, test_x, test_y = load_sklearn()\n",
        "\ttrain_dataset = ClassificationDataset(train_x, train_y)\n",
        "\ttest_dataset = ClassificationDataset(test_x, test_y)\n",
        "\treturn train_dataset, test_dataset"
      ],
      "execution_count": null,
      "outputs": []
    },
    {
      "cell_type": "code",
      "metadata": {
        "colab": {
          "base_uri": "https://localhost:8080/"
        },
        "id": "eAy7OJJ1dYmr",
        "outputId": "c229c357-97c1-468c-d5d3-3a378e272d50"
      },
      "source": [
        "train_dataset, test_dataset = load_dataset()\n",
        "print(\"Training:\", type(train_dataset), \"Size:\", len(train_dataset))\n",
        "print(\"Testing:\", type(test_dataset), \"Size:\", len(test_dataset))"
      ],
      "execution_count": null,
      "outputs": [
        {
          "output_type": "stream",
          "text": [
            "Training: <class '__main__.ClassificationDataset'> Size: 3200\n",
            "Testing: <class '__main__.ClassificationDataset'> Size: 800\n"
          ],
          "name": "stdout"
        }
      ]
    },
    {
      "cell_type": "markdown",
      "metadata": {
        "id": "2pejgswmcRl6"
      },
      "source": [
        "## Creating a Torch-Model"
      ]
    },
    {
      "cell_type": "code",
      "metadata": {
        "id": "N5F6xHuSYjqI"
      },
      "source": [
        "def get_model():\n",
        "\tmodel = torch.nn.Sequential(\n",
        "\t\t\ttorch.nn.Linear(8, 4),\n",
        "\t\t\ttorch.nn.ReLU(),\n",
        "\t\t\ttorch.nn.Linear(4, 1),\n",
        "\t\t\ttorch.nn.Sigmoid(),\n",
        "\t\t)\n",
        "\treturn model"
      ],
      "execution_count": null,
      "outputs": []
    },
    {
      "cell_type": "code",
      "metadata": {
        "colab": {
          "base_uri": "https://localhost:8080/"
        },
        "id": "lBCtQwrddkyj",
        "outputId": "64ca1bc8-5624-4190-e36a-c6f37e91eff7"
      },
      "source": [
        "print(get_model())"
      ],
      "execution_count": null,
      "outputs": [
        {
          "output_type": "stream",
          "text": [
            "Sequential(\n",
            "  (0): Linear(in_features=8, out_features=4, bias=True)\n",
            "  (1): ReLU()\n",
            "  (2): Linear(in_features=4, out_features=1, bias=True)\n",
            "  (3): Sigmoid()\n",
            ")\n"
          ],
          "name": "stdout"
        }
      ]
    },
    {
      "cell_type": "markdown",
      "metadata": {
        "id": "t_2J3U7zd9Ly"
      },
      "source": [
        "## Loading our Algorithms:"
      ]
    },
    {
      "cell_type": "code",
      "metadata": {
        "id": "hBvIABoKeCOq"
      },
      "source": [
        "from RL_DP_Project.experiment.train_single_model import Experiment\n",
        "from RL_DP_Project.algorithms.bayesian_optimization import Bayesian\n",
        "from RL_DP_Project.algorithms.grid_search_algorithm import GridSearch\n",
        "from RL_DP_Project.algorithms.evolutionary_optimization import EvolutionaryOptimization\n",
        "from RL_DP_Project.algorithms.reinforcement_learning_optimization import RLOptimization"
      ],
      "execution_count": null,
      "outputs": []
    },
    {
      "cell_type": "markdown",
      "metadata": {
        "id": "Mngh93AkdtnB"
      },
      "source": [
        "## Running A DP-Experiment"
      ]
    },
    {
      "cell_type": "code",
      "metadata": {
        "id": "Mc4-i3IPdlZV"
      },
      "source": [
        "def run_sample():\n",
        "\tcriterion = torch.nn.BCELoss()\n",
        "\ttrain_dataset, test_dataset = load_dataset()\n",
        "\te = Experiment(get_model, criterion, train_dataset, test_dataset)\n",
        "\tresults = e.run_experiment(1, 0.001)\n",
        "\tprint()\n",
        "\tprint(\"RESULTS:\")\n",
        "\t_ = [print(key+\":\", round(item, 4)) for key, item in results.items()]"
      ],
      "execution_count": null,
      "outputs": []
    },
    {
      "cell_type": "code",
      "metadata": {
        "colab": {
          "base_uri": "https://localhost:8080/"
        },
        "id": "3pmKVQT-ePnI",
        "outputId": "2831bb57-f749-438c-8415-66796532a826"
      },
      "source": [
        "run_sample()"
      ],
      "execution_count": null,
      "outputs": [
        {
          "output_type": "stream",
          "text": [
            "{'type': 'training', 'epoch': 1, 'loss': 0.6896, 'acc': 0.5613}: 100%|██████████| 400/400 [00:04<00:00, 85.53it/s]\n",
            "{'type': 'testing', 'epoch': 1, 'loss': 0.6919, 'acc': 0.5563}: 100%|██████████| 100/100 [00:00<00:00, 222.54it/s]\n",
            "{'type': 'training', 'epoch': 2, 'loss': 0.6751, 'acc': 0.5875}: 100%|██████████| 400/400 [00:04<00:00, 84.02it/s]\n",
            "{'type': 'testing', 'epoch': 2, 'loss': 0.6777, 'acc': 0.58}: 100%|██████████| 100/100 [00:00<00:00, 152.66it/s]\n",
            "{'type': 'training', 'epoch': 3, 'loss': 0.6601, 'acc': 0.6134}: 100%|██████████| 400/400 [00:04<00:00, 91.88it/s] \n",
            "{'type': 'testing', 'epoch': 3, 'loss': 0.662, 'acc': 0.595}: 100%|██████████| 100/100 [00:00<00:00, 209.07it/s]\n",
            "{'type': 'training', 'epoch': 4, 'loss': 0.6432, 'acc': 0.6338}: 100%|██████████| 400/400 [00:04<00:00, 81.62it/s]\n",
            "{'type': 'testing', 'epoch': 4, 'loss': 0.6439, 'acc': 0.6112}: 100%|██████████| 100/100 [00:00<00:00, 161.76it/s]\n",
            "{'type': 'training', 'epoch': 5, 'loss': 0.6242, 'acc': 0.6606}: 100%|██████████| 400/400 [00:04<00:00, 89.51it/s]\n",
            "{'type': 'testing', 'epoch': 5, 'loss': 0.6238, 'acc': 0.6438}: 100%|██████████| 100/100 [00:00<00:00, 157.54it/s]\n",
            "{'type': 'training', 'epoch': 6, 'loss': 0.6037, 'acc': 0.6887}: 100%|██████████| 400/400 [00:04<00:00, 85.68it/s]\n",
            "{'type': 'testing', 'epoch': 6, 'loss': 0.6022, 'acc': 0.685}: 100%|██████████| 100/100 [00:00<00:00, 179.08it/s]\n",
            "{'type': 'training', 'epoch': 7, 'loss': 0.581, 'acc': 0.7278}: 100%|██████████| 400/400 [00:04<00:00, 89.14it/s]\n",
            "{'type': 'testing', 'epoch': 7, 'loss': 0.5776, 'acc': 0.7412}: 100%|██████████| 100/100 [00:00<00:00, 195.57it/s]\n",
            "{'type': 'training', 'epoch': 8, 'loss': 0.5551, 'acc': 0.7731}: 100%|██████████| 400/400 [00:05<00:00, 77.13it/s]\n",
            "{'type': 'testing', 'epoch': 8, 'loss': 0.5504, 'acc': 0.7887}: 100%|██████████| 100/100 [00:00<00:00, 174.79it/s]\n",
            "{'type': 'training', 'epoch': 9, 'loss': 0.529, 'acc': 0.8119}: 100%|██████████| 400/400 [00:04<00:00, 87.71it/s]\n",
            "{'type': 'testing', 'epoch': 9, 'loss': 0.523, 'acc': 0.8263}: 100%|██████████| 100/100 [00:00<00:00, 195.90it/s]\n",
            "{'type': 'training', 'epoch': 10, 'loss': 0.5031, 'acc': 0.8366}: 100%|██████████| 400/400 [00:04<00:00, 80.19it/s]\n",
            "{'type': 'testing', 'epoch': 10, 'loss': 0.4962, 'acc': 0.8363}: 100%|██████████| 100/100 [00:00<00:00, 153.33it/s]\n",
            "{'type': 'training', 'epoch': 11, 'loss': 0.4781, 'acc': 0.8538}: 100%|██████████| 400/400 [00:04<00:00, 83.24it/s]\n",
            "{'type': 'testing', 'epoch': 11, 'loss': 0.4695, 'acc': 0.8538}: 100%|██████████| 100/100 [00:00<00:00, 156.07it/s]\n",
            "{'type': 'training', 'epoch': 12, 'loss': 0.453, 'acc': 0.8634}: 100%|██████████| 400/400 [00:04<00:00, 83.57it/s] \n",
            "{'type': 'testing', 'epoch': 12, 'loss': 0.4433, 'acc': 0.8688}: 100%|██████████| 100/100 [00:00<00:00, 197.30it/s]\n",
            "{'type': 'training', 'epoch': 13, 'loss': 0.4298, 'acc': 0.8731}: 100%|██████████| 400/400 [00:04<00:00, 80.97it/s]\n",
            "{'type': 'testing', 'epoch': 13, 'loss': 0.4203, 'acc': 0.8725}: 100%|██████████| 100/100 [00:00<00:00, 152.44it/s]\n",
            "{'type': 'training', 'epoch': 14, 'loss': 0.4104, 'acc': 0.8772}: 100%|██████████| 400/400 [00:04<00:00, 87.35it/s] \n",
            "{'type': 'testing', 'epoch': 14, 'loss': 0.4012, 'acc': 0.8775}: 100%|██████████| 100/100 [00:00<00:00, 216.13it/s]\n",
            "{'type': 'training', 'epoch': 15, 'loss': 0.3941, 'acc': 0.8816}: 100%|██████████| 400/400 [00:04<00:00, 82.54it/s]\n",
            "{'type': 'testing', 'epoch': 15, 'loss': 0.3854, 'acc': 0.8862}: 100%|██████████| 100/100 [00:00<00:00, 195.52it/s]"
          ],
          "name": "stderr"
        },
        {
          "output_type": "stream",
          "text": [
            "\n",
            "RESULTS:\n",
            "eps: 1.2102\n",
            "train_loss: 0.3941\n",
            "val_loss: 0.3854\n",
            "train_acc: 0.8816\n",
            "val_acc: 0.8862\n"
          ],
          "name": "stdout"
        },
        {
          "output_type": "stream",
          "text": [
            "\n"
          ],
          "name": "stderr"
        }
      ]
    },
    {
      "cell_type": "markdown",
      "metadata": {
        "id": "0LvTqjrIfbh5"
      },
      "source": [
        "## Creating our Reward Function:"
      ]
    },
    {
      "cell_type": "code",
      "metadata": {
        "id": "raP_BobKeRNe"
      },
      "source": [
        "def calculate_reward(eps, train_loss, val_loss, alpha_u=0.5, alpha_p=0.5):\n",
        "\treturn alpha_p*np.exp(-(eps)) + alpha_u*np.exp(-(val_loss))"
      ],
      "execution_count": null,
      "outputs": []
    },
    {
      "cell_type": "markdown",
      "metadata": {
        "id": "F1LuhQZrgEWB"
      },
      "source": [
        "## Creating Functions to Run Optimizers:"
      ]
    },
    {
      "cell_type": "code",
      "metadata": {
        "id": "BeM06-21gI50"
      },
      "source": [
        "def run_grid_search():\n",
        "\tcriterion = torch.nn.BCELoss()\n",
        "\ttrain_dataset, test_dataset = load_dataset()\n",
        "\te = Experiment(get_model, criterion, train_dataset, test_dataset)\n",
        "\tgs = GridSearch(e.run_experiment, calculate_reward, 10, search_space_nm=[2, 5], search_space_lr=[0.001, 0.05])\n",
        "\tprogress = gs.run()\n",
        "\treturn progress[::-1]"
      ],
      "execution_count": null,
      "outputs": []
    },
    {
      "cell_type": "code",
      "metadata": {
        "id": "KJRL65p-gBHx"
      },
      "source": [
        "def run_bayesian():\n",
        "\tcriterion = torch.nn.BCELoss()\n",
        "\ttrain_dataset, test_dataset = load_dataset()\n",
        "\te = Experiment(get_model, criterion, train_dataset, test_dataset)\n",
        "\tb = Bayesian(e.run_experiment, calculate_reward, 100, search_space_nm=[2, 5], search_space_lr=[0.001, 0.05])\n",
        "\tprogress = b.run()\n",
        "\treturn progress"
      ],
      "execution_count": null,
      "outputs": []
    },
    {
      "cell_type": "code",
      "metadata": {
        "id": "MV1sv3QngLnW"
      },
      "source": [
        "def run_evolutionary_optimization():\n",
        "\tcriterion = torch.nn.BCELoss()\n",
        "\ttrain_dataset, test_dataset = load_dataset()\n",
        "\te = Experiment(get_model, criterion, train_dataset, test_dataset)\n",
        "\teo = EvolutionaryOptimization(e.run_experiment, calculate_reward, 10, search_space_nm=[2, 5], search_space_lr=[0.001, 0.05])\n",
        "\tprogress = eo.run()\n",
        "\treturn progress"
      ],
      "execution_count": null,
      "outputs": []
    },
    {
      "cell_type": "code",
      "metadata": {
        "id": "UB33mk39gN7O"
      },
      "source": [
        "def run_reinforcement_learning_optimization():\n",
        "\tcriterion = torch.nn.BCELoss()\n",
        "\ttrain_dataset, test_dataset = load_dataset()\n",
        "\te = Experiment(get_model, criterion, train_dataset, test_dataset)\n",
        "\trl = RLOptimization(e.run_experiment, calculate_reward, 10, search_space_nm=[2, 5], search_space_lr=[0.001, 0.05])\n",
        "\tprogress = rl.run()\n",
        "\treturn progress"
      ],
      "execution_count": null,
      "outputs": []
    },
    {
      "cell_type": "markdown",
      "metadata": {
        "id": "EIJVRJllgW-p"
      },
      "source": [
        "## Running Each Optimizer:"
      ]
    },
    {
      "cell_type": "code",
      "metadata": {
        "colab": {
          "base_uri": "https://localhost:8080/"
        },
        "id": "5kXYa9vygQ9u",
        "outputId": "09455a60-1f4c-4fb5-f3bc-2ac48d0f29fc"
      },
      "source": [
        "gs_progress = run_grid_search()"
      ],
      "execution_count": null,
      "outputs": [
        {
          "output_type": "stream",
          "text": [
            "100%|██████████| 100/100 [21:42<00:00, 13.02s/it]\n"
          ],
          "name": "stderr"
        }
      ]
    },
    {
      "cell_type": "code",
      "metadata": {
        "id": "WZxGDKoKgeR_",
        "colab": {
          "base_uri": "https://localhost:8080/"
        },
        "outputId": "16a69a19-769b-4f94-ec16-85df1c24fa3b"
      },
      "source": [
        "bo_progress = run_bayesian()"
      ],
      "execution_count": null,
      "outputs": [
        {
          "output_type": "stream",
          "text": [
            "100%|██████████| 100/100 [21:03<00:00, 12.63s/it, best loss: 0.2147609112295663]\n",
            "{'lr': 0.0017940862990946287, 'nm': 4.800096455988798}\n"
          ],
          "name": "stdout"
        }
      ]
    },
    {
      "cell_type": "code",
      "metadata": {
        "id": "ZQ1ajodLhR4z",
        "colab": {
          "base_uri": "https://localhost:8080/"
        },
        "outputId": "fde1e79a-662d-464d-e43d-e6b33be5d9d6"
      },
      "source": [
        "eo_progress = run_evolutionary_optimization()"
      ],
      "execution_count": null,
      "outputs": [
        {
          "output_type": "stream",
          "text": [
            "{'gen_num': 0, 'lr': 0.0206, 'nm': 2.3, 'eps': 0.3326, 'val_loss': 0.4388, 'reward': 0.6809}: 100%|██████████| 10/10 [02:08<00:00, 12.89s/it]\n",
            "  0%|          | 0/9 [00:00<?, ?it/s]"
          ],
          "name": "stderr"
        },
        {
          "output_type": "stream",
          "text": [
            "{'gen_num': 0, 'reward_mean': 0.6934687832203716, 'reward_max': 0.7575398511773139}\n"
          ],
          "name": "stdout"
        },
        {
          "output_type": "stream",
          "text": [
            "{'gen_num': 1, 'lr': 0.0206, 'nm': 4.1, 'eps': 0.176, 'val_loss': 0.4125, 'reward': 0.7503}: 100%|██████████| 9/9 [01:55<00:00, 12.86s/it]\n",
            "  0%|          | 0/9 [00:00<?, ?it/s]"
          ],
          "name": "stderr"
        },
        {
          "output_type": "stream",
          "text": [
            "{'gen_num': 1, 'reward_mean': 0.7445561607140635, 'reward_max': 0.7711721586642581}\n"
          ],
          "name": "stdout"
        },
        {
          "output_type": "stream",
          "text": [
            "{'gen_num': 2, 'lr': 0.0353, 'nm': 2.3, 'eps': 0.3326, 'val_loss': 0.4431, 'reward': 0.6796}: 100%|██████████| 9/9 [01:56<00:00, 12.94s/it]\n",
            "  0%|          | 0/9 [00:00<?, ?it/s]"
          ],
          "name": "stderr"
        },
        {
          "output_type": "stream",
          "text": [
            "{'gen_num': 2, 'reward_mean': 0.7084664903838429, 'reward_max': 0.7687385396624913}\n"
          ],
          "name": "stdout"
        },
        {
          "output_type": "stream",
          "text": [
            "{'gen_num': 3, 'lr': 0.0402, 'nm': 3.8, 'eps': 0.1885, 'val_loss': 0.6649, 'reward': 0.6713}: 100%|██████████| 9/9 [01:58<00:00, 13.16s/it]\n",
            "  0%|          | 0/9 [00:00<?, ?it/s]"
          ],
          "name": "stderr"
        },
        {
          "output_type": "stream",
          "text": [
            "{'gen_num': 3, 'reward_mean': 0.7227581060440565, 'reward_max': 0.7566606735186716}\n"
          ],
          "name": "stdout"
        },
        {
          "output_type": "stream",
          "text": [
            "{'gen_num': 4, 'lr': 0.0206, 'nm': 2.0, 'eps': 0.3944, 'val_loss': 0.4722, 'reward': 0.6488}: 100%|██████████| 9/9 [01:55<00:00, 12.87s/it]\n",
            "  0%|          | 0/9 [00:00<?, ?it/s]"
          ],
          "name": "stderr"
        },
        {
          "output_type": "stream",
          "text": [
            "{'gen_num': 4, 'reward_mean': 0.7219940240767189, 'reward_max': 0.762824049763726}\n"
          ],
          "name": "stdout"
        },
        {
          "output_type": "stream",
          "text": [
            "{'gen_num': 5, 'lr': 0.0059, 'nm': 3.8, 'eps': 0.1885, 'val_loss': 0.3795, 'reward': 0.7562}: 100%|██████████| 9/9 [01:57<00:00, 13.10s/it]\n",
            "  0%|          | 0/9 [00:00<?, ?it/s]"
          ],
          "name": "stderr"
        },
        {
          "output_type": "stream",
          "text": [
            "{'gen_num': 5, 'reward_mean': 0.7435776467061885, 'reward_max': 0.767639519980928}\n"
          ],
          "name": "stdout"
        },
        {
          "output_type": "stream",
          "text": [
            "{'gen_num': 6, 'lr': 0.0304, 'nm': 3.5, 'eps': 0.2047, 'val_loss': 1.1261, 'reward': 0.5696}: 100%|██████████| 9/9 [01:58<00:00, 13.21s/it]\n",
            "  0%|          | 0/9 [00:00<?, ?it/s]"
          ],
          "name": "stderr"
        },
        {
          "output_type": "stream",
          "text": [
            "{'gen_num': 6, 'reward_mean': 0.7266806992251911, 'reward_max': 0.771222828081519}\n"
          ],
          "name": "stdout"
        },
        {
          "output_type": "stream",
          "text": [
            "{'gen_num': 7, 'lr': 0.0353, 'nm': 4.1, 'eps': 0.176, 'val_loss': 0.8846, 'reward': 0.6258}: 100%|██████████| 9/9 [01:56<00:00, 12.95s/it]\n",
            "  0%|          | 0/9 [00:00<?, ?it/s]"
          ],
          "name": "stderr"
        },
        {
          "output_type": "stream",
          "text": [
            "{'gen_num': 7, 'reward_mean': 0.7240482672613099, 'reward_max': 0.7710215247587959}\n"
          ],
          "name": "stdout"
        },
        {
          "output_type": "stream",
          "text": [
            "{'gen_num': 8, 'lr': 0.0108, 'nm': 4.4, 'eps': 0.166, 'val_loss': 0.4951, 'reward': 0.7283}: 100%|██████████| 9/9 [01:59<00:00, 13.23s/it]\n",
            "  0%|          | 0/9 [00:00<?, ?it/s]"
          ],
          "name": "stderr"
        },
        {
          "output_type": "stream",
          "text": [
            "{'gen_num': 8, 'reward_mean': 0.7528602811508066, 'reward_max': 0.7694941854403018}\n"
          ],
          "name": "stdout"
        },
        {
          "output_type": "stream",
          "text": [
            "{'gen_num': 9, 'lr': 0.0402, 'nm': 4.4, 'eps': 0.166, 'val_loss': 0.5299, 'reward': 0.7179}: 100%|██████████| 9/9 [02:04<00:00, 13.80s/it]"
          ],
          "name": "stderr"
        },
        {
          "output_type": "stream",
          "text": [
            "{'gen_num': 9, 'reward_mean': 0.7406596381352251, 'reward_max': 0.7712858056903273}\n"
          ],
          "name": "stdout"
        },
        {
          "output_type": "stream",
          "text": [
            "\n"
          ],
          "name": "stderr"
        }
      ]
    },
    {
      "cell_type": "code",
      "metadata": {
        "id": "9tp5dCA-hVRa",
        "colab": {
          "base_uri": "https://localhost:8080/"
        },
        "outputId": "fa388688-333a-4d26-9c72-f9e19fa8f52a"
      },
      "source": [
        "rl_progress = run_reinforcement_learning_optimization()"
      ],
      "execution_count": null,
      "outputs": [
        {
          "output_type": "stream",
          "text": [
            "100%|██████████| 10/10 [02:57<00:00, 17.77s/it]\n",
            "100%|██████████| 10/10 [02:21<00:00, 14.12s/it]\n",
            "100%|██████████| 10/10 [02:13<00:00, 13.33s/it]\n",
            "100%|██████████| 10/10 [02:17<00:00, 13.75s/it]\n",
            "100%|██████████| 10/10 [02:17<00:00, 13.71s/it]\n",
            "100%|██████████| 10/10 [02:12<00:00, 13.21s/it]\n",
            "100%|██████████| 10/10 [02:11<00:00, 13.14s/it]\n",
            "100%|██████████| 10/10 [02:13<00:00, 13.32s/it]\n",
            "100%|██████████| 10/10 [02:14<00:00, 13.48s/it]\n",
            "100%|██████████| 10/10 [02:12<00:00, 13.25s/it]\n"
          ],
          "name": "stderr"
        }
      ]
    },
    {
      "cell_type": "markdown",
      "metadata": {
        "id": "Eo3X-0MDhhGS"
      },
      "source": [
        "## Evaluating the Results:"
      ]
    },
    {
      "cell_type": "code",
      "metadata": {
        "id": "-9Y1uQ4blYL1"
      },
      "source": [
        "eo_progress_ext = np.concatenate(eo_progress, 0)\n",
        "rl_progress_ext = np.concatenate(rl_progress, 0)"
      ],
      "execution_count": null,
      "outputs": []
    },
    {
      "cell_type": "code",
      "metadata": {
        "id": "gTmx-7j4hX2b",
        "colab": {
          "base_uri": "https://localhost:8080/"
        },
        "outputId": "d4d5dd8a-9fd6-4663-e2c6-211326efb182"
      },
      "source": [
        "print(\"Maximum Reward Achieved by Each Algorithm:\")\n",
        "algorithms = [gs_progress, bo_progress, eo_progress_ext, rl_progress_ext]\n",
        "max_rewards_index = [np.argmax(i.T[-1]) for i in algorithms]\n",
        "df = np.stack([i[index] for i, index in zip(algorithms, max_rewards_index)])\n",
        "df = np.concatenate(([['Grid Search', 'Bayesian Optimization', 'Evolutionary Algorithms', 'Reinforcement Learning']], df.T))\n",
        "max_rewards = pd.DataFrame(df.T)\n",
        "max_rewards.columns = 'algorithms, nm, lr, eps, train_loss, val_loss, train_acc, val_acc, reward'.split(', ')\n",
        "max_rewards.set_index(\"algorithms\", inplace = True)\n",
        "pd.set_option(\"display.max_rows\", None, \"display.max_columns\", None)\n",
        "print(max_rewards)"
      ],
      "execution_count": null,
      "outputs": [
        {
          "output_type": "stream",
          "text": [
            "Maximum Reward Achieved by Each Algorithm:\n",
            "                                        nm                     lr  \\\n",
            "algorithms                                                          \n",
            "Grid Search              4.666666666666666                  0.001   \n",
            "Bayesian Optimization    4.800096455988798  0.0017940862990946287   \n",
            "Evolutionary Algorithms  4.208333333333333  0.0026333333333333334   \n",
            "Reinforcement Learning   4.666666666666666                  0.001   \n",
            "\n",
            "                                         eps           train_loss  \\\n",
            "algorithms                                                          \n",
            "Grid Search              0.15877983425643916  0.39874432507902385   \n",
            "Bayesian Optimization    0.15562559348348476   0.3456091733835638   \n",
            "Evolutionary Algorithms  0.17211126028152388  0.36756317228544505   \n",
            "Reinforcement Learning   0.15877983425643916  0.38918179236352446   \n",
            "\n",
            "                                    val_loss  train_acc    val_acc  \\\n",
            "algorithms                                                           \n",
            "Grid Search               0.3876035475730896     0.8825  0.8765625   \n",
            "Bayesian Optimization     0.3360342921689153     0.8875  0.8871875   \n",
            "Evolutionary Algorithms  0.35569526420906183   0.889375    0.89125   \n",
            "Reinforcement Learning   0.38243263080716133  0.8840625    0.88375   \n",
            "\n",
            "                                     reward  \n",
            "algorithms                                   \n",
            "Grid Search              0.7659327675137778  \n",
            "Bayesian Optimization    0.7852390887704337  \n",
            "Evolutionary Algorithms  0.7712858056903273  \n",
            "Reinforcement Learning   0.7676920144517156  \n"
          ],
          "name": "stdout"
        }
      ]
    },
    {
      "cell_type": "code",
      "metadata": {
        "id": "faE6E_tIS-nj"
      },
      "source": [
        "from matplotlib import pyplot as plt"
      ],
      "execution_count": null,
      "outputs": []
    },
    {
      "cell_type": "code",
      "metadata": {
        "colab": {
          "base_uri": "https://localhost:8080/",
          "height": 297
        },
        "id": "e6EVxwRKVjM2",
        "outputId": "c70e1110-30c8-4003-bc2d-e94a2feec64d"
      },
      "source": [
        "plt.cla()\n",
        "plt.bar(np.arange(4), height=[float(i) for i in df[-1]], width=0.75)\n",
        "plt.ylim([0.764, 0.79])\n",
        "plt.ylabel(\"Number of Experiments\")\n",
        "plt.xticks(np.arange(4), [\"Grid\\nSearch\", \"Bayesian\\nOptimization\", \"Evolutionary\\nOptimization\", \"Reinforcement\\nLearning\"])\n",
        "plt.xlabel('''\n",
        "\n",
        "Best Reward Achieved''', fontsize=12)\n",
        "plt.tight_layout()\n",
        "plt.show()"
      ],
      "execution_count": null,
      "outputs": [
        {
          "output_type": "display_data",
          "data": {
            "image/png": "[encoded data removed]",
            "text/plain": [
              "<Figure size 432x288 with 1 Axes>"
            ]
          },
          "metadata": {
            "tags": [],
            "needs_background": "light"
          }
        }
      ]
    },
    {
      "cell_type": "code",
      "metadata": {
        "colab": {
          "base_uri": "https://localhost:8080/",
          "height": 297
        },
        "id": "kmWJO6asX7e1",
        "outputId": "c1784e31-2c0d-4874-f6fc-d4f5f475be69"
      },
      "source": [
        "best_grid_search_reward_index = np.argmax(gs_progress.T[-1])\n",
        "best_grid_search_reward = gs_progress[best_grid_search_reward_index][-1]\n",
        "\n",
        "timely_indices = []\n",
        "for algorithm in algorithms:\n",
        "  for index, row in enumerate(algorithm):\n",
        "    if row[-1]>=best_grid_search_reward:\n",
        "      timely_indices.append(index)\n",
        "      break\n",
        "\n",
        "plt.cla()\n",
        "plt.bar(np.arange(4), height=timely_indices, width=0.75)\n",
        "plt.ylabel(\"Number of Experiments\")\n",
        "plt.xticks(np.arange(4), [\"Grid\\nSearch\", \"Bayesian\\nOptimization\", \"Evolutionary\\nOptimization\", \"Reinforcement\\nLearning\"])\n",
        "plt.xlabel('''\n",
        "\n",
        "Number of experiments run by different \n",
        "methodologies to achieve reward greater \n",
        "than or equal to baseline (Grid Search) rewards.''', fontsize=12)\n",
        "plt.tight_layout()\n",
        "plt.show()"
      ],
      "execution_count": null,
      "outputs": [
        {
          "output_type": "display_data",
          "data": {
            "image/png": "[encoded data removed]",
            "text/plain": [
              "<Figure size 432x288 with 1 Axes>"
            ]
          },
          "metadata": {
            "tags": [],
            "needs_background": "light"
          }
        }
      ]
    },
    {
      "cell_type": "code",
      "metadata": {
        "id": "VGU2ymfUuFoS"
      },
      "source": [
        ""
      ],
      "execution_count": null,
      "outputs": []
    }
  ]
}